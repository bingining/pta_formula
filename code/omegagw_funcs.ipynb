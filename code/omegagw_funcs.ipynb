{
 "cells": [
  {
   "cell_type": "code",
   "execution_count": 5,
   "metadata": {},
   "outputs": [],
   "source": [
    "from numpy import pi\n",
    "\n",
    "A0, k0, f0, Omega0 = 1e-16, 5.0, 1e-9, 1e-11"
   ]
  },
  {
   "cell_type": "code",
   "execution_count": 6,
   "metadata": {},
   "outputs": [
    {
     "data": {
      "text/plain": [
       "4.37913539432949e-07"
      ]
     },
     "execution_count": 6,
     "metadata": {},
     "output_type": "execute_result"
    }
   ],
   "source": [
    "def STT(A, k, f):\n",
    "    yr = 365.25 * 24.0 * 3600.0\n",
    "    fyr = f * yr # f/(yr^{-1}) = f*yr\n",
    "    coef = (1.0 + k**2.0)/(24.0 * pi**2.0 * f**3.0 * (1.0 + k**2 * fyr**(-2.0/3.0)))\n",
    "    return coef * A**2.0 * fyr**(-4.0/3.0)\n",
    "    \n",
    "    \n",
    "STT(A0, k0, f0)"
   ]
  },
  {
   "cell_type": "code",
   "execution_count": 7,
   "metadata": {},
   "outputs": [
    {
     "data": {
      "text/plain": [
       "4.385162870162132e-06"
      ]
     },
     "execution_count": 7,
     "metadata": {},
     "output_type": "execute_result"
    }
   ],
   "source": [
    "def SGeneral(A, k, f):\n",
    "    yr = 365.25 * 24.0 * 3600.0\n",
    "    fyr = f * yr # f/(yr^{-1}) = f*yr\n",
    "    coef = (1.0 + k**2.0)/(24.0 * pi**2.0 * f**3.0 * (1.0 + k**2 * fyr**(-2.0/3.0)))\n",
    "    return coef * A**2.0 * fyr**(-2.0)\n",
    "    \n",
    "    \n",
    "SGeneral(A0, k0, f0)"
   ]
  },
  {
   "cell_type": "code",
   "execution_count": 9,
   "metadata": {},
   "outputs": [
    {
     "data": {
      "text/plain": [
       "9.254749705152795e-05"
      ]
     },
     "execution_count": 9,
     "metadata": {},
     "output_type": "execute_result"
    }
   ],
   "source": [
    "def SInflation(f, Omega):\n",
    "    H0 = 2.192711267238057e-18\n",
    "    return 3.0 * H0**2/(16.0 * pi**4 * f**5) * Omega   \n",
    "    \n",
    "SInflation(f0, Omega0)"
   ]
  },
  {
   "cell_type": "code",
   "execution_count": null,
   "metadata": {},
   "outputs": [],
   "source": []
  }
 ],
 "metadata": {
  "kernelspec": {
   "display_name": "PTAPolar3",
   "language": "python",
   "name": "ptapolar3"
  },
  "language_info": {
   "codemirror_mode": {
    "name": "ipython",
    "version": 3
   },
   "file_extension": ".py",
   "mimetype": "text/x-python",
   "name": "python",
   "nbconvert_exporter": "python",
   "pygments_lexer": "ipython3",
   "version": "3.6.9"
  }
 },
 "nbformat": 4,
 "nbformat_minor": 4
}
