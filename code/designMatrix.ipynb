{
 "cells": [
  {
   "cell_type": "code",
   "execution_count": 1,
   "metadata": {},
   "outputs": [
    {
     "data": {
      "text/plain": [
       "designMatrixEphemeris"
      ]
     },
     "execution_count": 1,
     "metadata": {},
     "output_type": "execute_result"
    }
   ],
   "source": [
    "include(\"designMatrix.jl\")"
   ]
  },
  {
   "cell_type": "markdown",
   "metadata": {},
   "source": [
    "# designMatrixRed"
   ]
  },
  {
   "cell_type": "code",
   "execution_count": 2,
   "metadata": {},
   "outputs": [],
   "source": [
    "toas = [1, 2]\n",
    "F, FFreqs = designMatrixRed(toas, nMode=2);"
   ]
  },
  {
   "cell_type": "code",
   "execution_count": 3,
   "metadata": {},
   "outputs": [
    {
     "data": {
      "text/plain": [
       "2×4 Array{Float64,2}:\n",
       " -2.44929e-16  1.0  -4.89859e-16  1.0\n",
       " -4.89859e-16  1.0  -9.79717e-16  1.0"
      ]
     },
     "execution_count": 3,
     "metadata": {},
     "output_type": "execute_result"
    }
   ],
   "source": [
    "F"
   ]
  },
  {
   "cell_type": "code",
   "execution_count": 4,
   "metadata": {},
   "outputs": [
    {
     "data": {
      "text/plain": [
       "4-element Array{Float64,1}:\n",
       " 1.0\n",
       " 1.0\n",
       " 2.0\n",
       " 2.0"
      ]
     },
     "execution_count": 4,
     "metadata": {},
     "output_type": "execute_result"
    }
   ],
   "source": [
    "FFreqs"
   ]
  },
  {
   "cell_type": "code",
   "execution_count": 5,
   "metadata": {},
   "outputs": [
    {
     "name": "stdout",
     "output_type": "stream",
     "text": [
      "search: \u001b[0m\u001b[1md\u001b[22m\u001b[0m\u001b[1me\u001b[22m\u001b[0m\u001b[1ms\u001b[22m\u001b[0m\u001b[1mi\u001b[22m\u001b[0m\u001b[1mg\u001b[22m\u001b[0m\u001b[1mn\u001b[22m\u001b[0m\u001b[1mM\u001b[22m\u001b[0m\u001b[1ma\u001b[22m\u001b[0m\u001b[1mt\u001b[22m\u001b[0m\u001b[1mr\u001b[22m\u001b[0m\u001b[1mi\u001b[22m\u001b[0m\u001b[1mx\u001b[22m\u001b[0m\u001b[1mR\u001b[22m\u001b[0m\u001b[1me\u001b[22m\u001b[0m\u001b[1md\u001b[22m \u001b[0m\u001b[1md\u001b[22m\u001b[0m\u001b[1me\u001b[22m\u001b[0m\u001b[1ms\u001b[22m\u001b[0m\u001b[1mi\u001b[22m\u001b[0m\u001b[1mg\u001b[22m\u001b[0m\u001b[1mn\u001b[22m\u001b[0m\u001b[1mM\u001b[22m\u001b[0m\u001b[1ma\u001b[22m\u001b[0m\u001b[1mt\u001b[22m\u001b[0m\u001b[1mr\u001b[22m\u001b[0m\u001b[1mi\u001b[22m\u001b[0m\u001b[1mx\u001b[22mCh\u001b[0m\u001b[1mr\u001b[22momatic \u001b[0m\u001b[1md\u001b[22m\u001b[0m\u001b[1me\u001b[22m\u001b[0m\u001b[1ms\u001b[22m\u001b[0m\u001b[1mi\u001b[22m\u001b[0m\u001b[1mg\u001b[22m\u001b[0m\u001b[1mn\u001b[22m\u001b[0m\u001b[1mM\u001b[22m\u001b[0m\u001b[1ma\u001b[22m\u001b[0m\u001b[1mt\u001b[22m\u001b[0m\u001b[1mr\u001b[22m\u001b[0m\u001b[1mi\u001b[22m\u001b[0m\u001b[1mx\u001b[22mEpheme\u001b[0m\u001b[1mr\u001b[22mis\n",
      "\n"
     ]
    },
    {
     "data": {
      "text/latex": [
       "\\begin{verbatim}\n",
       "designMatrixRed(\n",
       "    toas;\n",
       "    nMode=30, \n",
       "    TSpan=Nothing, \n",
       "    logFreq=false\n",
       ")\n",
       "\\end{verbatim}\n",
       "Construct an $N_{toas} × 2N_{mode}$ Fourier design matrix from Eq.(11) of Lentati et al, 2013  (https://arxiv.org/pdf/1210.3578.pdf)\n",
       "\n",
       "\\section{Arguments}\n",
       "\\begin{itemize}\n",
       "\\item \\texttt{toas::Array}: vector of time of arrial series in seconds.\n",
       "\n",
       "\n",
       "\\item \\texttt{nMode::Integer=30}: number of fourier coefficients to use.\n",
       "\n",
       "\n",
       "\\item \\texttt{TSpan:Float64=Nothing}: option to some other Tspan.\n",
       "\n",
       "\n",
       "\\item \\texttt{logFreq::Bool=false}: use log frequency spacing.\n",
       "\n",
       "\\end{itemize}\n",
       "\\section{Examples}\n",
       "\\begin{verbatim}\n",
       "julia> toas = [1, 2]\n",
       "julia> F, FFreqs = designMatrixRed(toas, nMode=2);\n",
       "julia> F\n",
       "2×4 Array{Float64,2}:\n",
       " -2.44929e-16  1.0  -4.89859e-16  1.0\n",
       " -4.89859e-16  1.0  -9.79717e-16  1.0\n",
       "julia> FFreqs\n",
       "4-element Array{Float64,1}:\n",
       " 1.0\n",
       " 1.0\n",
       " 2.0\n",
       " 2.0\n",
       "\\end{verbatim}\n",
       "\\section{See also}\n",
       "\\href{@ref}{\\texttt{designMatrixEnvelope}}, \\href{@ref}{\\texttt{designMatrixChromatic}}, \\href{@ref}{\\texttt{designMatrixDM}}, \\href{@ref}{\\texttt{designMatrixEphemeris}}\n",
       "\n"
      ],
      "text/markdown": [
       "```\n",
       "designMatrixRed(\n",
       "    toas;\n",
       "    nMode=30, \n",
       "    TSpan=Nothing, \n",
       "    logFreq=false\n",
       ")\n",
       "```\n",
       "\n",
       "Construct an $N_{toas} × 2N_{mode}$ Fourier design matrix from Eq.(11) of Lentati et al, 2013  (https://arxiv.org/pdf/1210.3578.pdf)\n",
       "\n",
       "# Arguments\n",
       "\n",
       "  * `toas::Array`: vector of time of arrial series in seconds.\n",
       "  * `nMode::Integer=30`: number of fourier coefficients to use.\n",
       "  * `TSpan:Float64=Nothing`: option to some other Tspan.\n",
       "  * `logFreq::Bool=false`: use log frequency spacing.\n",
       "\n",
       "# Examples\n",
       "\n",
       "```jldoctest\n",
       "julia> toas = [1, 2]\n",
       "julia> F, FFreqs = designMatrixRed(toas, nMode=2);\n",
       "julia> F\n",
       "2×4 Array{Float64,2}:\n",
       " -2.44929e-16  1.0  -4.89859e-16  1.0\n",
       " -4.89859e-16  1.0  -9.79717e-16  1.0\n",
       "julia> FFreqs\n",
       "4-element Array{Float64,1}:\n",
       " 1.0\n",
       " 1.0\n",
       " 2.0\n",
       " 2.0\n",
       "```\n",
       "\n",
       "# See also\n",
       "\n",
       "[`designMatrixEnvelope`](@ref), [`designMatrixChromatic`](@ref), [`designMatrixDM`](@ref), [`designMatrixEphemeris`](@ref)\n"
      ],
      "text/plain": [
       "\u001b[36m  designMatrixRed(\u001b[39m\n",
       "\u001b[36m      toas;\u001b[39m\n",
       "\u001b[36m      nMode=30, \u001b[39m\n",
       "\u001b[36m      TSpan=Nothing, \u001b[39m\n",
       "\u001b[36m      logFreq=false\u001b[39m\n",
       "\u001b[36m  )\u001b[39m\n",
       "\n",
       "  Construct an \u001b[35mN_{toas} × 2N_{mode}\u001b[39m Fourier design matrix from Eq.(11) of\n",
       "  Lentati et al, 2013 (https://arxiv.org/pdf/1210.3578.pdf)\n",
       "\n",
       "\u001b[1m  Arguments\u001b[22m\n",
       "\u001b[1m  ≡≡≡≡≡≡≡≡≡≡≡\u001b[22m\n",
       "\n",
       "    •    \u001b[36mtoas::Array\u001b[39m: vector of time of arrial series in seconds.\n",
       "\n",
       "    •    \u001b[36mnMode::Integer=30\u001b[39m: number of fourier coefficients to use.\n",
       "\n",
       "    •    \u001b[36mTSpan:Float64=Nothing\u001b[39m: option to some other Tspan.\n",
       "\n",
       "    •    \u001b[36mlogFreq::Bool=false\u001b[39m: use log frequency spacing.\n",
       "\n",
       "\u001b[1m  Examples\u001b[22m\n",
       "\u001b[1m  ≡≡≡≡≡≡≡≡≡≡\u001b[22m\n",
       "\n",
       "\u001b[36m  julia> toas = [1, 2]\u001b[39m\n",
       "\u001b[36m  julia> F, FFreqs = designMatrixRed(toas, nMode=2);\u001b[39m\n",
       "\u001b[36m  julia> F\u001b[39m\n",
       "\u001b[36m  2×4 Array{Float64,2}:\u001b[39m\n",
       "\u001b[36m   -2.44929e-16  1.0  -4.89859e-16  1.0\u001b[39m\n",
       "\u001b[36m   -4.89859e-16  1.0  -9.79717e-16  1.0\u001b[39m\n",
       "\u001b[36m  julia> FFreqs\u001b[39m\n",
       "\u001b[36m  4-element Array{Float64,1}:\u001b[39m\n",
       "\u001b[36m   1.0\u001b[39m\n",
       "\u001b[36m   1.0\u001b[39m\n",
       "\u001b[36m   2.0\u001b[39m\n",
       "\u001b[36m   2.0\u001b[39m\n",
       "\n",
       "\u001b[1m  See also\u001b[22m\n",
       "\u001b[1m  ≡≡≡≡≡≡≡≡≡≡\u001b[22m\n",
       "\n",
       "  \u001b[36mdesignMatrixEnvelope\u001b[39m, \u001b[36mdesignMatrixChromatic\u001b[39m, \u001b[36mdesignMatrixDM\u001b[39m,\n",
       "  \u001b[36mdesignMatrixEphemeris\u001b[39m"
      ]
     },
     "execution_count": 5,
     "metadata": {},
     "output_type": "execute_result"
    }
   ],
   "source": [
    "?designMatrixRed"
   ]
  },
  {
   "cell_type": "markdown",
   "metadata": {},
   "source": [
    "# designMatrixEnvelope"
   ]
  },
  {
   "cell_type": "code",
   "execution_count": 6,
   "metadata": {},
   "outputs": [
    {
     "data": {
      "text/plain": [
       "([-8.66025403784421e-8 -5.000000000000305e-8 8.660254037844738e-8 -4.999999999999388e-8; -2.5859143257199664e-9 -1.492978332055928e-9 2.585914325720221e-9 -1.4929783320554873e-9], [1.4558583740973678e-8, 1.4558583740973678e-8, 2.9117167481947356e-8, 2.9117167481947356e-8])"
      ]
     },
     "execution_count": 6,
     "metadata": {},
     "output_type": "execute_result"
    }
   ],
   "source": [
    "toas = [1, 1.015]*53000.0day\n",
    "F, FFreqs = designMatrixEnvelope(toas, nMode=2)"
   ]
  },
  {
   "cell_type": "code",
   "execution_count": 7,
   "metadata": {},
   "outputs": [
    {
     "data": {
      "text/plain": [
       "2×4 Array{Float64,2}:\n",
       " -8.66025e-8  -5.0e-8      8.66025e-8  -5.0e-8    \n",
       " -2.58591e-9  -1.49298e-9  2.58591e-9  -1.49298e-9"
      ]
     },
     "execution_count": 7,
     "metadata": {},
     "output_type": "execute_result"
    }
   ],
   "source": [
    "F"
   ]
  },
  {
   "cell_type": "code",
   "execution_count": 8,
   "metadata": {},
   "outputs": [
    {
     "data": {
      "text/plain": [
       "4-element Array{Float64,1}:\n",
       " 1.4558583740973678e-8\n",
       " 1.4558583740973678e-8\n",
       " 2.9117167481947356e-8\n",
       " 2.9117167481947356e-8"
      ]
     },
     "execution_count": 8,
     "metadata": {},
     "output_type": "execute_result"
    }
   ],
   "source": [
    "FFreqs"
   ]
  },
  {
   "cell_type": "code",
   "execution_count": 9,
   "metadata": {},
   "outputs": [
    {
     "name": "stdout",
     "output_type": "stream",
     "text": [
      "search: \u001b[0m\u001b[1md\u001b[22m\u001b[0m\u001b[1me\u001b[22m\u001b[0m\u001b[1ms\u001b[22m\u001b[0m\u001b[1mi\u001b[22m\u001b[0m\u001b[1mg\u001b[22m\u001b[0m\u001b[1mn\u001b[22m\u001b[0m\u001b[1mM\u001b[22m\u001b[0m\u001b[1ma\u001b[22m\u001b[0m\u001b[1mt\u001b[22m\u001b[0m\u001b[1mr\u001b[22m\u001b[0m\u001b[1mi\u001b[22m\u001b[0m\u001b[1mx\u001b[22m\u001b[0m\u001b[1mE\u001b[22m\u001b[0m\u001b[1mn\u001b[22m\u001b[0m\u001b[1mv\u001b[22m\u001b[0m\u001b[1me\u001b[22m\u001b[0m\u001b[1ml\u001b[22m\u001b[0m\u001b[1mo\u001b[22m\u001b[0m\u001b[1mp\u001b[22m\u001b[0m\u001b[1me\u001b[22m\n",
      "\n"
     ]
    },
    {
     "data": {
      "text/latex": [
       "\\begin{verbatim}\n",
       "designMatrixEnvelope(\n",
       "    toas;\n",
       "    log10Amp=-7.0,\n",
       "    log10Q=log10(300.0),\n",
       "    t0=53000.0day,\n",
       "    nMode=30, \n",
       "    TSpan=Nothing, \n",
       "    logFreq=false\n",
       ")\n",
       "\\end{verbatim}\n",
       "Construct an $N_{toas} × 2N_{mode}$ Fourier design matrix with gaussian envelope.  Current normalization expresses DM signal as a deviation [seconds] at fref [MHz]\n",
       "\n",
       "\\section{Arguments}\n",
       "\\begin{itemize}\n",
       "\\item \\texttt{toas::Array}: vector of time of arrial series in seconds.\n",
       "\n",
       "\n",
       "\\item \\texttt{log10Amp::Float64=-7.0}: log10 of the amplitude [s].\n",
       "\n",
       "\n",
       "\\item \\texttt{log10Q::Float64=log10(300.0)}: log10 of standard deviation of gaussian envelope [days].\n",
       "\n",
       "\n",
       "\\item \\texttt{t0::Float64=53000.0day}: mean of gaussian envelope [s].\n",
       "\n",
       "\n",
       "\\item \\texttt{nMode::Integer=30}: number of fourier coefficients to use.\n",
       "\n",
       "\n",
       "\\item \\texttt{TSpan:Float64=Nothing}: option to some other Tspan.\n",
       "\n",
       "\n",
       "\\item \\texttt{logFreq::Bool=false}: use log frequency spacing.\n",
       "\n",
       "\\end{itemize}\n",
       "\\section{Examples}\n",
       "\\begin{verbatim}\n",
       "julia> toas = [1, 1.015]*53000.0day\n",
       "julia> F, FFreqs = designMatrixEnvelope(toas, nMode=2);\n",
       "julia> F\n",
       "2×4 Array{Float64,2}:\n",
       " -8.66025e-8  -5.0e-8      8.66025e-8  -5.0e-8    \n",
       " -2.58591e-9  -1.49298e-9  2.58591e-9  -1.49298e-9\n",
       "julia> FFreqs\n",
       "4-element Array{Float64,1}:\n",
       " 1.455858374097388e-8\n",
       " 1.455858374097388e-8\n",
       " 2.911716748194776e-8\n",
       " 2.911716748194776e-8\n",
       "\\end{verbatim}\n",
       "\\section{See also}\n",
       "\\href{@ref}{\\texttt{designMatrixRed}}, \\href{@ref}{\\texttt{designMatrixChromatic}}, \\href{@ref}{\\texttt{designMatrixDM}}, \\href{@ref}{\\texttt{designMatrixEphemeris}}\n",
       "\n"
      ],
      "text/markdown": [
       "```\n",
       "designMatrixEnvelope(\n",
       "    toas;\n",
       "    log10Amp=-7.0,\n",
       "    log10Q=log10(300.0),\n",
       "    t0=53000.0day,\n",
       "    nMode=30, \n",
       "    TSpan=Nothing, \n",
       "    logFreq=false\n",
       ")\n",
       "```\n",
       "\n",
       "Construct an $N_{toas} × 2N_{mode}$ Fourier design matrix with gaussian envelope.  Current normalization expresses DM signal as a deviation [seconds] at fref [MHz]\n",
       "\n",
       "# Arguments\n",
       "\n",
       "  * `toas::Array`: vector of time of arrial series in seconds.\n",
       "  * `log10Amp::Float64=-7.0`: log10 of the amplitude [s].\n",
       "  * `log10Q::Float64=log10(300.0)`: log10 of standard deviation of gaussian envelope [days].\n",
       "  * `t0::Float64=53000.0day`: mean of gaussian envelope [s].\n",
       "  * `nMode::Integer=30`: number of fourier coefficients to use.\n",
       "  * `TSpan:Float64=Nothing`: option to some other Tspan.\n",
       "  * `logFreq::Bool=false`: use log frequency spacing.\n",
       "\n",
       "# Examples\n",
       "\n",
       "```jldoctest\n",
       "julia> toas = [1, 1.015]*53000.0day\n",
       "julia> F, FFreqs = designMatrixEnvelope(toas, nMode=2);\n",
       "julia> F\n",
       "2×4 Array{Float64,2}:\n",
       " -8.66025e-8  -5.0e-8      8.66025e-8  -5.0e-8    \n",
       " -2.58591e-9  -1.49298e-9  2.58591e-9  -1.49298e-9\n",
       "julia> FFreqs\n",
       "4-element Array{Float64,1}:\n",
       " 1.455858374097388e-8\n",
       " 1.455858374097388e-8\n",
       " 2.911716748194776e-8\n",
       " 2.911716748194776e-8\n",
       "```\n",
       "\n",
       "# See also\n",
       "\n",
       "[`designMatrixRed`](@ref), [`designMatrixChromatic`](@ref), [`designMatrixDM`](@ref), [`designMatrixEphemeris`](@ref)\n"
      ],
      "text/plain": [
       "\u001b[36m  designMatrixEnvelope(\u001b[39m\n",
       "\u001b[36m      toas;\u001b[39m\n",
       "\u001b[36m      log10Amp=-7.0,\u001b[39m\n",
       "\u001b[36m      log10Q=log10(300.0),\u001b[39m\n",
       "\u001b[36m      t0=53000.0day,\u001b[39m\n",
       "\u001b[36m      nMode=30, \u001b[39m\n",
       "\u001b[36m      TSpan=Nothing, \u001b[39m\n",
       "\u001b[36m      logFreq=false\u001b[39m\n",
       "\u001b[36m  )\u001b[39m\n",
       "\n",
       "  Construct an \u001b[35mN_{toas} × 2N_{mode}\u001b[39m Fourier design matrix with gaussian\n",
       "  envelope. Current normalization expresses DM signal as a deviation [seconds]\n",
       "  at fref [MHz]\n",
       "\n",
       "\u001b[1m  Arguments\u001b[22m\n",
       "\u001b[1m  ≡≡≡≡≡≡≡≡≡≡≡\u001b[22m\n",
       "\n",
       "    •    \u001b[36mtoas::Array\u001b[39m: vector of time of arrial series in seconds.\n",
       "\n",
       "    •    \u001b[36mlog10Amp::Float64=-7.0\u001b[39m: log10 of the amplitude [s].\n",
       "\n",
       "    •    \u001b[36mlog10Q::Float64=log10(300.0)\u001b[39m: log10 of standard deviation of\n",
       "        gaussian envelope [days].\n",
       "\n",
       "    •    \u001b[36mt0::Float64=53000.0day\u001b[39m: mean of gaussian envelope [s].\n",
       "\n",
       "    •    \u001b[36mnMode::Integer=30\u001b[39m: number of fourier coefficients to use.\n",
       "\n",
       "    •    \u001b[36mTSpan:Float64=Nothing\u001b[39m: option to some other Tspan.\n",
       "\n",
       "    •    \u001b[36mlogFreq::Bool=false\u001b[39m: use log frequency spacing.\n",
       "\n",
       "\u001b[1m  Examples\u001b[22m\n",
       "\u001b[1m  ≡≡≡≡≡≡≡≡≡≡\u001b[22m\n",
       "\n",
       "\u001b[36m  julia> toas = [1, 1.015]*53000.0day\u001b[39m\n",
       "\u001b[36m  julia> F, FFreqs = designMatrixEnvelope(toas, nMode=2);\u001b[39m\n",
       "\u001b[36m  julia> F\u001b[39m\n",
       "\u001b[36m  2×4 Array{Float64,2}:\u001b[39m\n",
       "\u001b[36m   -8.66025e-8  -5.0e-8      8.66025e-8  -5.0e-8    \u001b[39m\n",
       "\u001b[36m   -2.58591e-9  -1.49298e-9  2.58591e-9  -1.49298e-9\u001b[39m\n",
       "\u001b[36m  julia> FFreqs\u001b[39m\n",
       "\u001b[36m  4-element Array{Float64,1}:\u001b[39m\n",
       "\u001b[36m   1.455858374097388e-8\u001b[39m\n",
       "\u001b[36m   1.455858374097388e-8\u001b[39m\n",
       "\u001b[36m   2.911716748194776e-8\u001b[39m\n",
       "\u001b[36m   2.911716748194776e-8\u001b[39m\n",
       "\n",
       "\u001b[1m  See also\u001b[22m\n",
       "\u001b[1m  ≡≡≡≡≡≡≡≡≡≡\u001b[22m\n",
       "\n",
       "  \u001b[36mdesignMatrixRed\u001b[39m, \u001b[36mdesignMatrixChromatic\u001b[39m, \u001b[36mdesignMatrixDM\u001b[39m,\n",
       "  \u001b[36mdesignMatrixEphemeris\u001b[39m"
      ]
     },
     "execution_count": 9,
     "metadata": {},
     "output_type": "execute_result"
    }
   ],
   "source": [
    "?designMatrixEnvelope"
   ]
  },
  {
   "cell_type": "markdown",
   "metadata": {},
   "source": [
    "# designMatrixChromatic"
   ]
  },
  {
   "cell_type": "code",
   "execution_count": 10,
   "metadata": {},
   "outputs": [
    {
     "data": {
      "text/plain": [
       "([-1.161630405828265e-5 4.742716049382717e10 -2.32326081165653e-5 4.742716049382717e10; -7.3509424118819875e-6 1.500625e10 -1.4701884823763975e-5 1.500625e10], [1.0, 1.0, 2.0, 2.0])"
      ]
     },
     "execution_count": 10,
     "metadata": {},
     "output_type": "execute_result"
    }
   ],
   "source": [
    "toas = [1, 2]\n",
    "freqs = [3, 4]\n",
    "F, FFreqs = designMatrixChromatic(toas, freqs, nMode=2)"
   ]
  },
  {
   "cell_type": "code",
   "execution_count": 11,
   "metadata": {},
   "outputs": [
    {
     "data": {
      "text/plain": [
       "2×4 Array{Float64,2}:\n",
       " -1.16163e-5  4.74272e10  -2.32326e-5  4.74272e10\n",
       " -7.35094e-6  1.50063e10  -1.47019e-5  1.50063e10"
      ]
     },
     "execution_count": 11,
     "metadata": {},
     "output_type": "execute_result"
    }
   ],
   "source": [
    "F"
   ]
  },
  {
   "cell_type": "code",
   "execution_count": 12,
   "metadata": {},
   "outputs": [
    {
     "data": {
      "text/plain": [
       "4-element Array{Float64,1}:\n",
       " 1.0\n",
       " 1.0\n",
       " 2.0\n",
       " 2.0"
      ]
     },
     "execution_count": 12,
     "metadata": {},
     "output_type": "execute_result"
    }
   ],
   "source": [
    "FFreqs"
   ]
  },
  {
   "cell_type": "code",
   "execution_count": 13,
   "metadata": {},
   "outputs": [
    {
     "name": "stdout",
     "output_type": "stream",
     "text": [
      "search: \u001b[0m\u001b[1md\u001b[22m\u001b[0m\u001b[1me\u001b[22m\u001b[0m\u001b[1ms\u001b[22m\u001b[0m\u001b[1mi\u001b[22m\u001b[0m\u001b[1mg\u001b[22m\u001b[0m\u001b[1mn\u001b[22m\u001b[0m\u001b[1mM\u001b[22m\u001b[0m\u001b[1ma\u001b[22m\u001b[0m\u001b[1mt\u001b[22m\u001b[0m\u001b[1mr\u001b[22m\u001b[0m\u001b[1mi\u001b[22m\u001b[0m\u001b[1mx\u001b[22m\u001b[0m\u001b[1mC\u001b[22m\u001b[0m\u001b[1mh\u001b[22m\u001b[0m\u001b[1mr\u001b[22m\u001b[0m\u001b[1mo\u001b[22m\u001b[0m\u001b[1mm\u001b[22m\u001b[0m\u001b[1ma\u001b[22m\u001b[0m\u001b[1mt\u001b[22m\u001b[0m\u001b[1mi\u001b[22m\u001b[0m\u001b[1mc\u001b[22m\n",
      "\n"
     ]
    },
    {
     "data": {
      "text/latex": [
       "\\begin{verbatim}\n",
       "designMatrixChromatic(\n",
       "    toas,\n",
       "    freqs;\n",
       "    nMode=30, \n",
       "    TSpan=Nothing, \n",
       "    fRef=1400.0,\n",
       "    index=4.0,\n",
       "    logFreq=false\n",
       ")\n",
       "\\end{verbatim}\n",
       "Construct an $N_{toas} × 2N_{mode}$ scattering-variation Fourier design matrix.  Current normalization expresses scattering signal as a deviation [seconds] at fRef [MHz]\n",
       "\n",
       "\\section{Arguments}\n",
       "\\begin{itemize}\n",
       "\\item \\texttt{toas::Array}: vector of time of arrial series in seconds.\n",
       "\n",
       "\n",
       "\\item \\texttt{freqs:Array}: radio frequencies of observations [MHz].\n",
       "\n",
       "\n",
       "\\item \\texttt{nMode::Integer=30}: number of fourier coefficients to use.\n",
       "\n",
       "\n",
       "\\item \\texttt{TSpan:Float64=Nothing}: option to some other Tspan.\n",
       "\n",
       "\n",
       "\\item \\texttt{fRef:Float64=1400.0}: reference frequency [MHz].\n",
       "\n",
       "\n",
       "\\item \\texttt{index::Float64=4.0}: index of chromatic effects.\n",
       "\n",
       "\n",
       "\\item \\texttt{logFreq::Bool=false}: use log frequency spacing.\n",
       "\n",
       "\\end{itemize}\n",
       "\\section{Examples}\n",
       "\\begin{verbatim}\n",
       "julia> toas = [1, 2]\n",
       "julia> freqs = [3, 4]\n",
       "julia> F, FFreqs = designMatrixChromatic(toas, freqs, nMode=2);\n",
       "julia> F\n",
       "2×4 Array{Float64,2}:\n",
       " -1.16163e-5  4.74272e10  -2.32326e-5  4.74272e10\n",
       " -7.35094e-6  1.50063e10  -1.47019e-5  1.50063e10\n",
       "julia> FFreqs\n",
       "4-element Array{Float64,1}:\n",
       " 1.0\n",
       " 1.0\n",
       " 2.0\n",
       " 2.0\n",
       "\\end{verbatim}\n",
       "\\section{See also}\n",
       "\\href{@ref}{\\texttt{designMatrixRed}}, \\href{@ref}{\\texttt{designMatrixEnvelope}}, \\href{@ref}{\\texttt{designMatrixDM}}, \\href{@ref}{\\texttt{designMatrixEphemeris}}\n",
       "\n"
      ],
      "text/markdown": [
       "```\n",
       "designMatrixChromatic(\n",
       "    toas,\n",
       "    freqs;\n",
       "    nMode=30, \n",
       "    TSpan=Nothing, \n",
       "    fRef=1400.0,\n",
       "    index=4.0,\n",
       "    logFreq=false\n",
       ")\n",
       "```\n",
       "\n",
       "Construct an $N_{toas} × 2N_{mode}$ scattering-variation Fourier design matrix.  Current normalization expresses scattering signal as a deviation [seconds] at fRef [MHz]\n",
       "\n",
       "# Arguments\n",
       "\n",
       "  * `toas::Array`: vector of time of arrial series in seconds.\n",
       "  * `freqs:Array`: radio frequencies of observations [MHz].\n",
       "  * `nMode::Integer=30`: number of fourier coefficients to use.\n",
       "  * `TSpan:Float64=Nothing`: option to some other Tspan.\n",
       "  * `fRef:Float64=1400.0`: reference frequency [MHz].\n",
       "  * `index::Float64=4.0`: index of chromatic effects.\n",
       "  * `logFreq::Bool=false`: use log frequency spacing.\n",
       "\n",
       "# Examples\n",
       "\n",
       "```jldoctest\n",
       "julia> toas = [1, 2]\n",
       "julia> freqs = [3, 4]\n",
       "julia> F, FFreqs = designMatrixChromatic(toas, freqs, nMode=2);\n",
       "julia> F\n",
       "2×4 Array{Float64,2}:\n",
       " -1.16163e-5  4.74272e10  -2.32326e-5  4.74272e10\n",
       " -7.35094e-6  1.50063e10  -1.47019e-5  1.50063e10\n",
       "julia> FFreqs\n",
       "4-element Array{Float64,1}:\n",
       " 1.0\n",
       " 1.0\n",
       " 2.0\n",
       " 2.0\n",
       "```\n",
       "\n",
       "# See also\n",
       "\n",
       "[`designMatrixRed`](@ref), [`designMatrixEnvelope`](@ref), [`designMatrixDM`](@ref), [`designMatrixEphemeris`](@ref)\n"
      ],
      "text/plain": [
       "\u001b[36m  designMatrixChromatic(\u001b[39m\n",
       "\u001b[36m      toas,\u001b[39m\n",
       "\u001b[36m      freqs;\u001b[39m\n",
       "\u001b[36m      nMode=30, \u001b[39m\n",
       "\u001b[36m      TSpan=Nothing, \u001b[39m\n",
       "\u001b[36m      fRef=1400.0,\u001b[39m\n",
       "\u001b[36m      index=4.0,\u001b[39m\n",
       "\u001b[36m      logFreq=false\u001b[39m\n",
       "\u001b[36m  )\u001b[39m\n",
       "\n",
       "  Construct an \u001b[35mN_{toas} × 2N_{mode}\u001b[39m scattering-variation Fourier design\n",
       "  matrix. Current normalization expresses scattering signal as a deviation\n",
       "  [seconds] at fRef [MHz]\n",
       "\n",
       "\u001b[1m  Arguments\u001b[22m\n",
       "\u001b[1m  ≡≡≡≡≡≡≡≡≡≡≡\u001b[22m\n",
       "\n",
       "    •    \u001b[36mtoas::Array\u001b[39m: vector of time of arrial series in seconds.\n",
       "\n",
       "    •    \u001b[36mfreqs:Array\u001b[39m: radio frequencies of observations [MHz].\n",
       "\n",
       "    •    \u001b[36mnMode::Integer=30\u001b[39m: number of fourier coefficients to use.\n",
       "\n",
       "    •    \u001b[36mTSpan:Float64=Nothing\u001b[39m: option to some other Tspan.\n",
       "\n",
       "    •    \u001b[36mfRef:Float64=1400.0\u001b[39m: reference frequency [MHz].\n",
       "\n",
       "    •    \u001b[36mindex::Float64=4.0\u001b[39m: index of chromatic effects.\n",
       "\n",
       "    •    \u001b[36mlogFreq::Bool=false\u001b[39m: use log frequency spacing.\n",
       "\n",
       "\u001b[1m  Examples\u001b[22m\n",
       "\u001b[1m  ≡≡≡≡≡≡≡≡≡≡\u001b[22m\n",
       "\n",
       "\u001b[36m  julia> toas = [1, 2]\u001b[39m\n",
       "\u001b[36m  julia> freqs = [3, 4]\u001b[39m\n",
       "\u001b[36m  julia> F, FFreqs = designMatrixChromatic(toas, freqs, nMode=2);\u001b[39m\n",
       "\u001b[36m  julia> F\u001b[39m\n",
       "\u001b[36m  2×4 Array{Float64,2}:\u001b[39m\n",
       "\u001b[36m   -1.16163e-5  4.74272e10  -2.32326e-5  4.74272e10\u001b[39m\n",
       "\u001b[36m   -7.35094e-6  1.50063e10  -1.47019e-5  1.50063e10\u001b[39m\n",
       "\u001b[36m  julia> FFreqs\u001b[39m\n",
       "\u001b[36m  4-element Array{Float64,1}:\u001b[39m\n",
       "\u001b[36m   1.0\u001b[39m\n",
       "\u001b[36m   1.0\u001b[39m\n",
       "\u001b[36m   2.0\u001b[39m\n",
       "\u001b[36m   2.0\u001b[39m\n",
       "\n",
       "\u001b[1m  See also\u001b[22m\n",
       "\u001b[1m  ≡≡≡≡≡≡≡≡≡≡\u001b[22m\n",
       "\n",
       "  \u001b[36mdesignMatrixRed\u001b[39m, \u001b[36mdesignMatrixEnvelope\u001b[39m, \u001b[36mdesignMatrixDM\u001b[39m, \u001b[36mdesignMatrixEphemeris\u001b[39m"
      ]
     },
     "execution_count": 13,
     "metadata": {},
     "output_type": "execute_result"
    }
   ],
   "source": [
    "?designMatrixChromatic"
   ]
  },
  {
   "cell_type": "markdown",
   "metadata": {},
   "source": [
    "# designMatrixDM"
   ]
  },
  {
   "cell_type": "code",
   "execution_count": 14,
   "metadata": {},
   "outputs": [
    {
     "data": {
      "text/plain": [
       "([-5.334017169619583e-11 217777.77777777778 -1.0668034339239166e-10 217777.77777777778; -6.00076931582203e-11 122500.0 -1.200153863164406e-10 122500.0], [1.0, 1.0, 2.0, 2.0])"
      ]
     },
     "execution_count": 14,
     "metadata": {},
     "output_type": "execute_result"
    }
   ],
   "source": [
    "toas = [1, 2]\n",
    "freqs = [3, 4]\n",
    "F, FFreqs = designMatrixDM(toas, freqs, nMode=2)"
   ]
  },
  {
   "cell_type": "code",
   "execution_count": 15,
   "metadata": {},
   "outputs": [
    {
     "data": {
      "text/plain": [
       "2×4 Array{Float64,2}:\n",
       " -5.33402e-11       2.17778e5  -1.0668e-10        2.17778e5\n",
       " -6.00077e-11  122500.0        -1.20015e-10  122500.0      "
      ]
     },
     "execution_count": 15,
     "metadata": {},
     "output_type": "execute_result"
    }
   ],
   "source": [
    "F"
   ]
  },
  {
   "cell_type": "code",
   "execution_count": 16,
   "metadata": {},
   "outputs": [
    {
     "data": {
      "text/plain": [
       "4-element Array{Float64,1}:\n",
       " 1.0\n",
       " 1.0\n",
       " 2.0\n",
       " 2.0"
      ]
     },
     "execution_count": 16,
     "metadata": {},
     "output_type": "execute_result"
    }
   ],
   "source": [
    "FFreqs"
   ]
  },
  {
   "cell_type": "code",
   "execution_count": 17,
   "metadata": {},
   "outputs": [
    {
     "name": "stdout",
     "output_type": "stream",
     "text": [
      "search: \u001b[0m\u001b[1md\u001b[22m\u001b[0m\u001b[1me\u001b[22m\u001b[0m\u001b[1ms\u001b[22m\u001b[0m\u001b[1mi\u001b[22m\u001b[0m\u001b[1mg\u001b[22m\u001b[0m\u001b[1mn\u001b[22m\u001b[0m\u001b[1mM\u001b[22m\u001b[0m\u001b[1ma\u001b[22m\u001b[0m\u001b[1mt\u001b[22m\u001b[0m\u001b[1mr\u001b[22m\u001b[0m\u001b[1mi\u001b[22m\u001b[0m\u001b[1mx\u001b[22m\u001b[0m\u001b[1mD\u001b[22m\u001b[0m\u001b[1mM\u001b[22m \u001b[0m\u001b[1md\u001b[22m\u001b[0m\u001b[1me\u001b[22m\u001b[0m\u001b[1ms\u001b[22m\u001b[0m\u001b[1mi\u001b[22m\u001b[0m\u001b[1mg\u001b[22m\u001b[0m\u001b[1mn\u001b[22m\u001b[0m\u001b[1mM\u001b[22m\u001b[0m\u001b[1ma\u001b[22m\u001b[0m\u001b[1mt\u001b[22m\u001b[0m\u001b[1mr\u001b[22m\u001b[0m\u001b[1mi\u001b[22m\u001b[0m\u001b[1mx\u001b[22mRe\u001b[0m\u001b[1md\u001b[22m \u001b[0m\u001b[1md\u001b[22m\u001b[0m\u001b[1me\u001b[22m\u001b[0m\u001b[1ms\u001b[22m\u001b[0m\u001b[1mi\u001b[22m\u001b[0m\u001b[1mg\u001b[22m\u001b[0m\u001b[1mn\u001b[22m\u001b[0m\u001b[1mM\u001b[22m\u001b[0m\u001b[1ma\u001b[22m\u001b[0m\u001b[1mt\u001b[22m\u001b[0m\u001b[1mr\u001b[22m\u001b[0m\u001b[1mi\u001b[22m\u001b[0m\u001b[1mx\u001b[22mEnvelope\n",
      "\n"
     ]
    },
    {
     "data": {
      "text/latex": [
       "\\begin{verbatim}\n",
       "designMatrixDM(\n",
       "    toas,\n",
       "    freqs;\n",
       "    nMode=30, \n",
       "    TSpan=Nothing, \n",
       "    fRef=1400.0,\n",
       "    logFreq=false\n",
       ")\n",
       "\\end{verbatim}\n",
       "Construct an $N_{toas} × 2N_{mode}$ dispersion measure (DM)-variation Fourier design matrix.  Current normalization expresses DM signal as a deviation [seconds] at fRef [MHz]. It is a special case of designMatrixChromatic with index=2.\n",
       "\n",
       "\\section{Arguments}\n",
       "\\begin{itemize}\n",
       "\\item \\texttt{toas::Array}: vector of time of arrial series in seconds.\n",
       "\n",
       "\n",
       "\\item \\texttt{freqs:Array}: radio frequencies of observations [MHz].\n",
       "\n",
       "\n",
       "\\item \\texttt{nMode::Integer=30}: number of fourier coefficients to use.\n",
       "\n",
       "\n",
       "\\item \\texttt{TSpan:Float64=Nothing}: option to some other Tspan.\n",
       "\n",
       "\n",
       "\\item \\texttt{fRef:Float64=1400.0}: reference frequency [MHz].\n",
       "\n",
       "\n",
       "\\item \\texttt{logFreq::Bool=false}: use log frequency spacing.\n",
       "\n",
       "\\end{itemize}\n",
       "\\section{Examples}\n",
       "\\begin{verbatim}\n",
       "julia> toas = [1, 2]\n",
       "julia> freqs = [3, 4]\n",
       "julia> F, FFreqs = designMatrixDM(toas, freqs, nMode=2)\n",
       "julia> F\n",
       "2×4 Array{Float64,2}:\n",
       " -5.33402e-11       2.17778e5  -1.0668e-10        2.17778e5\n",
       " -6.00077e-11  122500.0        -1.20015e-10  122500.0 \n",
       "julia> FFreqs\n",
       "4-element Array{Float64,1}:\n",
       " 1.0\n",
       " 1.0\n",
       " 2.0\n",
       " 2.0\n",
       "\\end{verbatim}\n",
       "\\section{See also}\n",
       "\\href{@ref}{\\texttt{designMatrixRed}}, \\href{@ref}{\\texttt{designMatrixEnvelope}}, \\href{@ref}{\\texttt{designMatrixChromatic}}, \\href{@ref}{\\texttt{designMatrixEphemeris}}\n",
       "\n"
      ],
      "text/markdown": [
       "```\n",
       "designMatrixDM(\n",
       "    toas,\n",
       "    freqs;\n",
       "    nMode=30, \n",
       "    TSpan=Nothing, \n",
       "    fRef=1400.0,\n",
       "    logFreq=false\n",
       ")\n",
       "```\n",
       "\n",
       "Construct an $N_{toas} × 2N_{mode}$ dispersion measure (DM)-variation Fourier design matrix.  Current normalization expresses DM signal as a deviation [seconds] at fRef [MHz]. It is a special case of designMatrixChromatic with index=2.\n",
       "\n",
       "# Arguments\n",
       "\n",
       "  * `toas::Array`: vector of time of arrial series in seconds.\n",
       "  * `freqs:Array`: radio frequencies of observations [MHz].\n",
       "  * `nMode::Integer=30`: number of fourier coefficients to use.\n",
       "  * `TSpan:Float64=Nothing`: option to some other Tspan.\n",
       "  * `fRef:Float64=1400.0`: reference frequency [MHz].\n",
       "  * `logFreq::Bool=false`: use log frequency spacing.\n",
       "\n",
       "# Examples\n",
       "\n",
       "```jldoctest\n",
       "julia> toas = [1, 2]\n",
       "julia> freqs = [3, 4]\n",
       "julia> F, FFreqs = designMatrixDM(toas, freqs, nMode=2)\n",
       "julia> F\n",
       "2×4 Array{Float64,2}:\n",
       " -5.33402e-11       2.17778e5  -1.0668e-10        2.17778e5\n",
       " -6.00077e-11  122500.0        -1.20015e-10  122500.0 \n",
       "julia> FFreqs\n",
       "4-element Array{Float64,1}:\n",
       " 1.0\n",
       " 1.0\n",
       " 2.0\n",
       " 2.0\n",
       "```\n",
       "\n",
       "# See also\n",
       "\n",
       "[`designMatrixRed`](@ref), [`designMatrixEnvelope`](@ref), [`designMatrixChromatic`](@ref), [`designMatrixEphemeris`](@ref)\n"
      ],
      "text/plain": [
       "\u001b[36m  designMatrixDM(\u001b[39m\n",
       "\u001b[36m      toas,\u001b[39m\n",
       "\u001b[36m      freqs;\u001b[39m\n",
       "\u001b[36m      nMode=30, \u001b[39m\n",
       "\u001b[36m      TSpan=Nothing, \u001b[39m\n",
       "\u001b[36m      fRef=1400.0,\u001b[39m\n",
       "\u001b[36m      logFreq=false\u001b[39m\n",
       "\u001b[36m  )\u001b[39m\n",
       "\n",
       "  Construct an \u001b[35mN_{toas} × 2N_{mode}\u001b[39m dispersion measure (DM)-variation Fourier\n",
       "  design matrix. Current normalization expresses DM signal as a deviation\n",
       "  [seconds] at fRef [MHz]. It is a special case of designMatrixChromatic with\n",
       "  index=2.\n",
       "\n",
       "\u001b[1m  Arguments\u001b[22m\n",
       "\u001b[1m  ≡≡≡≡≡≡≡≡≡≡≡\u001b[22m\n",
       "\n",
       "    •    \u001b[36mtoas::Array\u001b[39m: vector of time of arrial series in seconds.\n",
       "\n",
       "    •    \u001b[36mfreqs:Array\u001b[39m: radio frequencies of observations [MHz].\n",
       "\n",
       "    •    \u001b[36mnMode::Integer=30\u001b[39m: number of fourier coefficients to use.\n",
       "\n",
       "    •    \u001b[36mTSpan:Float64=Nothing\u001b[39m: option to some other Tspan.\n",
       "\n",
       "    •    \u001b[36mfRef:Float64=1400.0\u001b[39m: reference frequency [MHz].\n",
       "\n",
       "    •    \u001b[36mlogFreq::Bool=false\u001b[39m: use log frequency spacing.\n",
       "\n",
       "\u001b[1m  Examples\u001b[22m\n",
       "\u001b[1m  ≡≡≡≡≡≡≡≡≡≡\u001b[22m\n",
       "\n",
       "\u001b[36m  julia> toas = [1, 2]\u001b[39m\n",
       "\u001b[36m  julia> freqs = [3, 4]\u001b[39m\n",
       "\u001b[36m  julia> F, FFreqs = designMatrixDM(toas, freqs, nMode=2)\u001b[39m\n",
       "\u001b[36m  julia> F\u001b[39m\n",
       "\u001b[36m  2×4 Array{Float64,2}:\u001b[39m\n",
       "\u001b[36m   -5.33402e-11       2.17778e5  -1.0668e-10        2.17778e5\u001b[39m\n",
       "\u001b[36m   -6.00077e-11  122500.0        -1.20015e-10  122500.0 \u001b[39m\n",
       "\u001b[36m  julia> FFreqs\u001b[39m\n",
       "\u001b[36m  4-element Array{Float64,1}:\u001b[39m\n",
       "\u001b[36m   1.0\u001b[39m\n",
       "\u001b[36m   1.0\u001b[39m\n",
       "\u001b[36m   2.0\u001b[39m\n",
       "\u001b[36m   2.0\u001b[39m\n",
       "\n",
       "\u001b[1m  See also\u001b[22m\n",
       "\u001b[1m  ≡≡≡≡≡≡≡≡≡≡\u001b[22m\n",
       "\n",
       "  \u001b[36mdesignMatrixRed\u001b[39m, \u001b[36mdesignMatrixEnvelope\u001b[39m, \u001b[36mdesignMatrixChromatic\u001b[39m,\n",
       "  \u001b[36mdesignMatrixEphemeris\u001b[39m"
      ]
     },
     "execution_count": 17,
     "metadata": {},
     "output_type": "execute_result"
    }
   ],
   "source": [
    "?designMatrixDM"
   ]
  },
  {
   "cell_type": "markdown",
   "metadata": {},
   "source": [
    "# designMatrixEphemeris"
   ]
  },
  {
   "cell_type": "code",
   "execution_count": 18,
   "metadata": {},
   "outputs": [],
   "source": [
    "toas = [1, 2]\n",
    "pos = [3, 4, 5]\n",
    "F, FFreqs = designMatrixEphemeris(toas, pos, nMode=2);"
   ]
  },
  {
   "cell_type": "code",
   "execution_count": 19,
   "metadata": {},
   "outputs": [
    {
     "data": {
      "text/plain": [
       "2×12 Array{Float64,2}:\n",
       " -7.34788e-16  -9.79717e-16  -1.22465e-15  …  -2.44929e-15  3.0  4.0  5.0\n",
       " -1.46958e-15  -1.95943e-15  -2.44929e-15     -4.89859e-15  3.0  4.0  5.0"
      ]
     },
     "execution_count": 19,
     "metadata": {},
     "output_type": "execute_result"
    }
   ],
   "source": [
    "F"
   ]
  },
  {
   "cell_type": "code",
   "execution_count": 20,
   "metadata": {},
   "outputs": [
    {
     "data": {
      "text/plain": [
       "12-element Array{Float64,1}:\n",
       " 1.0\n",
       " 1.0\n",
       " 1.0\n",
       " 1.0\n",
       " 1.0\n",
       " 1.0\n",
       " 2.0\n",
       " 2.0\n",
       " 2.0\n",
       " 2.0\n",
       " 2.0\n",
       " 2.0"
      ]
     },
     "execution_count": 20,
     "metadata": {},
     "output_type": "execute_result"
    }
   ],
   "source": [
    "FFreqs"
   ]
  },
  {
   "cell_type": "code",
   "execution_count": 21,
   "metadata": {},
   "outputs": [
    {
     "name": "stdout",
     "output_type": "stream",
     "text": [
      "search: \u001b[0m\u001b[1md\u001b[22m\u001b[0m\u001b[1me\u001b[22m\u001b[0m\u001b[1ms\u001b[22m\u001b[0m\u001b[1mi\u001b[22m\u001b[0m\u001b[1mg\u001b[22m\u001b[0m\u001b[1mn\u001b[22m\u001b[0m\u001b[1mM\u001b[22m\u001b[0m\u001b[1ma\u001b[22m\u001b[0m\u001b[1mt\u001b[22m\u001b[0m\u001b[1mr\u001b[22m\u001b[0m\u001b[1mi\u001b[22m\u001b[0m\u001b[1mx\u001b[22m\u001b[0m\u001b[1mE\u001b[22m\u001b[0m\u001b[1mp\u001b[22m\u001b[0m\u001b[1mh\u001b[22m\u001b[0m\u001b[1me\u001b[22m\u001b[0m\u001b[1mm\u001b[22m\u001b[0m\u001b[1me\u001b[22m\u001b[0m\u001b[1mr\u001b[22m\u001b[0m\u001b[1mi\u001b[22m\u001b[0m\u001b[1ms\u001b[22m\n",
      "\n"
     ]
    },
    {
     "data": {
      "text/latex": [
       "\\begin{verbatim}\n",
       "designMatrixEphemeris(\n",
       "    toas,\n",
       "    pos;\n",
       "    nMode=30, \n",
       "    TSpan=Nothing, \n",
       "    logFreq=false\n",
       ")\n",
       "\\end{verbatim}\n",
       "Construct an $N_{toas} × 6N_{mode}$ ephemeris perturbation Fourier design matrix.  The matrix contains $6N_{mode}$ columns, ordered as by frequency first, Cartesian coordinate second:\n",
       "\n",
       "$$    sin(f0)[x], sin(f0)[y], sin(f0)[z], cos(f0)[x], cos(f0)[y], cos(f0)[z],\\\n",
       "\n",
       "    sin(f1)[x], sin(f1)[y], sin(f1)[z], cos(f1)[x], cos(f1)[y], cos(f1)[z],\n",
       "    ...$$\n",
       "The corresponding frequency vector repeats every entry six times. This design matrix should be used with monopole\\_orf overlap function  and with a powerlaw that specifies components=6.\n",
       "\n",
       "\\section{Arguments}\n",
       "\\begin{itemize}\n",
       "\\item \\texttt{toas::Array}: vector of time of arrial series in seconds.\n",
       "\n",
       "\n",
       "\\item \\texttt{pos:Array}: radio frequencies of observations [MHz].\n",
       "\n",
       "\n",
       "\\item \\texttt{nMode::Integer=30}: number of fourier coefficients to use.\n",
       "\n",
       "\n",
       "\\item \\texttt{TSpan:Float64=Nothing}: option to some other Tspan.\n",
       "\n",
       "\n",
       "\\item \\texttt{logFreq::Bool=false}: use log frequency spacing.\n",
       "\n",
       "\\end{itemize}\n",
       "\\section{Examples}\n",
       "\\begin{verbatim}\n",
       "julia> toas = [1, 2]\n",
       "julia> pos = [3, 4, 5]\n",
       "julia> F, FFreqs = designMatrixEphemeris(toas, pos, nMode=2);\n",
       "julia> F\n",
       "2×12 Array{Float64,2}:\n",
       " -7.34788e-16  -9.79717e-16  -1.22465e-15  …  -2.44929e-15  3.0  4.0  5.0\n",
       " -1.46958e-15  -1.95943e-15  -2.44929e-15     -4.89859e-15  3.0  4.0  5.0\n",
       "julia> FFreqs\n",
       "12-element Array{Float64,1}:\n",
       " 1.0\n",
       " 1.0\n",
       " 1.0\n",
       " 1.0\n",
       " 1.0\n",
       " 1.0\n",
       " 2.0\n",
       " 2.0\n",
       " 2.0\n",
       " 2.0\n",
       " 2.0\n",
       " 2.0\n",
       "\\end{verbatim}\n",
       "\\section{See also}\n",
       "\\href{@ref}{\\texttt{designMatrixRed}}, \\href{@ref}{\\texttt{designMatrixEnvelope}}, \\href{@ref}{\\texttt{designMatrixChromatic}}, \\href{@ref}{\\texttt{designMatrixDM}}\n",
       "\n"
      ],
      "text/markdown": [
       "```\n",
       "designMatrixEphemeris(\n",
       "    toas,\n",
       "    pos;\n",
       "    nMode=30, \n",
       "    TSpan=Nothing, \n",
       "    logFreq=false\n",
       ")\n",
       "```\n",
       "\n",
       "Construct an $N_{toas} × 6N_{mode}$ ephemeris perturbation Fourier design matrix.  The matrix contains $6N_{mode}$ columns, ordered as by frequency first, Cartesian coordinate second:\n",
       "\n",
       "$$\n",
       "    sin(f0)[x], sin(f0)[y], sin(f0)[z], cos(f0)[x], cos(f0)[y], cos(f0)[z],\\\n",
       "\n",
       "    sin(f1)[x], sin(f1)[y], sin(f1)[z], cos(f1)[x], cos(f1)[y], cos(f1)[z],\n",
       "    ...\n",
       "$$\n",
       "\n",
       "The corresponding frequency vector repeats every entry six times. This design matrix should be used with monopole_orf overlap function  and with a powerlaw that specifies components=6.\n",
       "\n",
       "# Arguments\n",
       "\n",
       "  * `toas::Array`: vector of time of arrial series in seconds.\n",
       "  * `pos:Array`: radio frequencies of observations [MHz].\n",
       "  * `nMode::Integer=30`: number of fourier coefficients to use.\n",
       "  * `TSpan:Float64=Nothing`: option to some other Tspan.\n",
       "  * `logFreq::Bool=false`: use log frequency spacing.\n",
       "\n",
       "# Examples\n",
       "\n",
       "```jldoctest\n",
       "julia> toas = [1, 2]\n",
       "julia> pos = [3, 4, 5]\n",
       "julia> F, FFreqs = designMatrixEphemeris(toas, pos, nMode=2);\n",
       "julia> F\n",
       "2×12 Array{Float64,2}:\n",
       " -7.34788e-16  -9.79717e-16  -1.22465e-15  …  -2.44929e-15  3.0  4.0  5.0\n",
       " -1.46958e-15  -1.95943e-15  -2.44929e-15     -4.89859e-15  3.0  4.0  5.0\n",
       "julia> FFreqs\n",
       "12-element Array{Float64,1}:\n",
       " 1.0\n",
       " 1.0\n",
       " 1.0\n",
       " 1.0\n",
       " 1.0\n",
       " 1.0\n",
       " 2.0\n",
       " 2.0\n",
       " 2.0\n",
       " 2.0\n",
       " 2.0\n",
       " 2.0\n",
       "```\n",
       "\n",
       "# See also\n",
       "\n",
       "[`designMatrixRed`](@ref), [`designMatrixEnvelope`](@ref), [`designMatrixChromatic`](@ref), [`designMatrixDM`](@ref)\n"
      ],
      "text/plain": [
       "\u001b[36m  designMatrixEphemeris(\u001b[39m\n",
       "\u001b[36m      toas,\u001b[39m\n",
       "\u001b[36m      pos;\u001b[39m\n",
       "\u001b[36m      nMode=30, \u001b[39m\n",
       "\u001b[36m      TSpan=Nothing, \u001b[39m\n",
       "\u001b[36m      logFreq=false\u001b[39m\n",
       "\u001b[36m  )\u001b[39m\n",
       "\n",
       "  Construct an \u001b[35mN_{toas} × 6N_{mode}\u001b[39m ephemeris perturbation Fourier design\n",
       "  matrix. The matrix contains \u001b[35m6N_{mode}\u001b[39m columns, ordered as by frequency\n",
       "  first, Cartesian coordinate second:\n",
       "\n",
       "\u001b[35m    sin(f0)[x], sin(f0)[y], sin(f0)[z], cos(f0)[x], cos(f0)[y], cos(f0)[z],\\\u001b[39m\n",
       "\n",
       "\u001b[35m    sin(f1)[x], sin(f1)[y], sin(f1)[z], cos(f1)[x], cos(f1)[y], cos(f1)[z],\u001b[39m\n",
       "\u001b[35m    ...\u001b[39m\n",
       "\n",
       "  The corresponding frequency vector repeats every entry six times. This\n",
       "  design matrix should be used with monopole_orf overlap function and with a\n",
       "  powerlaw that specifies components=6.\n",
       "\n",
       "\u001b[1m  Arguments\u001b[22m\n",
       "\u001b[1m  ≡≡≡≡≡≡≡≡≡≡≡\u001b[22m\n",
       "\n",
       "    •    \u001b[36mtoas::Array\u001b[39m: vector of time of arrial series in seconds.\n",
       "\n",
       "    •    \u001b[36mpos:Array\u001b[39m: radio frequencies of observations [MHz].\n",
       "\n",
       "    •    \u001b[36mnMode::Integer=30\u001b[39m: number of fourier coefficients to use.\n",
       "\n",
       "    •    \u001b[36mTSpan:Float64=Nothing\u001b[39m: option to some other Tspan.\n",
       "\n",
       "    •    \u001b[36mlogFreq::Bool=false\u001b[39m: use log frequency spacing.\n",
       "\n",
       "\u001b[1m  Examples\u001b[22m\n",
       "\u001b[1m  ≡≡≡≡≡≡≡≡≡≡\u001b[22m\n",
       "\n",
       "\u001b[36m  julia> toas = [1, 2]\u001b[39m\n",
       "\u001b[36m  julia> pos = [3, 4, 5]\u001b[39m\n",
       "\u001b[36m  julia> F, FFreqs = designMatrixEphemeris(toas, pos, nMode=2);\u001b[39m\n",
       "\u001b[36m  julia> F\u001b[39m\n",
       "\u001b[36m  2×12 Array{Float64,2}:\u001b[39m\n",
       "\u001b[36m   -7.34788e-16  -9.79717e-16  -1.22465e-15  …  -2.44929e-15  3.0  4.0  5.0\u001b[39m\n",
       "\u001b[36m   -1.46958e-15  -1.95943e-15  -2.44929e-15     -4.89859e-15  3.0  4.0  5.0\u001b[39m\n",
       "\u001b[36m  julia> FFreqs\u001b[39m\n",
       "\u001b[36m  12-element Array{Float64,1}:\u001b[39m\n",
       "\u001b[36m   1.0\u001b[39m\n",
       "\u001b[36m   1.0\u001b[39m\n",
       "\u001b[36m   1.0\u001b[39m\n",
       "\u001b[36m   1.0\u001b[39m\n",
       "\u001b[36m   1.0\u001b[39m\n",
       "\u001b[36m   1.0\u001b[39m\n",
       "\u001b[36m   2.0\u001b[39m\n",
       "\u001b[36m   2.0\u001b[39m\n",
       "\u001b[36m   2.0\u001b[39m\n",
       "\u001b[36m   2.0\u001b[39m\n",
       "\u001b[36m   2.0\u001b[39m\n",
       "\u001b[36m   2.0\u001b[39m\n",
       "\n",
       "\u001b[1m  See also\u001b[22m\n",
       "\u001b[1m  ≡≡≡≡≡≡≡≡≡≡\u001b[22m\n",
       "\n",
       "  \u001b[36mdesignMatrixRed\u001b[39m, \u001b[36mdesignMatrixEnvelope\u001b[39m, \u001b[36mdesignMatrixChromatic\u001b[39m, \u001b[36mdesignMatrixDM\u001b[39m"
      ]
     },
     "execution_count": 21,
     "metadata": {},
     "output_type": "execute_result"
    }
   ],
   "source": [
    "?designMatrixEphemeris"
   ]
  },
  {
   "cell_type": "code",
   "execution_count": null,
   "metadata": {},
   "outputs": [],
   "source": []
  }
 ],
 "metadata": {
  "kernelspec": {
   "display_name": "Julia 1.3.0",
   "language": "julia",
   "name": "julia-1.3"
  },
  "language_info": {
   "file_extension": ".jl",
   "mimetype": "application/julia",
   "name": "julia",
   "version": "1.3.0"
  }
 },
 "nbformat": 4,
 "nbformat_minor": 4
}
