{
 "cells": [
  {
   "cell_type": "code",
   "execution_count": 3,
   "metadata": {},
   "outputs": [
    {
     "data": {
      "text/plain": [
       "DM_K"
      ]
     },
     "execution_count": 3,
     "metadata": {},
     "output_type": "execute_result"
    }
   ],
   "source": [
    "include(\"constant.jl\")"
   ]
  },
  {
   "cell_type": "code",
   "execution_count": 15,
   "metadata": {},
   "outputs": [
    {
     "data": {
      "text/plain": [
       "86400.0"
      ]
     },
     "execution_count": 15,
     "metadata": {},
     "output_type": "execute_result"
    }
   ],
   "source": [
    "day"
   ]
  },
  {
   "cell_type": "code",
   "execution_count": 5,
   "metadata": {},
   "outputs": [
    {
     "name": "stdout",
     "output_type": "stream",
     "text": [
      "search: \u001b[0m\u001b[1me\u001b[22m \u001b[0m\u001b[1me\u001b[22mnd \u001b[0m\u001b[1me\u001b[22mxp \u001b[0m\u001b[1me\u001b[22msc \u001b[0m\u001b[1me\u001b[22mps \u001b[0m\u001b[1me\u001b[22mof \u001b[0m\u001b[1me\u001b[22mlse \u001b[0m\u001b[1me\u001b[22mxp2 \u001b[0m\u001b[1me\u001b[22mxit \u001b[0m\u001b[1mE\u001b[22mNV \u001b[0m\u001b[1me\u001b[22mdit \u001b[0m\u001b[1me\u001b[22mval \u001b[0m\u001b[1mE\u001b[22mxpr \u001b[0m\u001b[1me\u001b[22mxpm1 \u001b[0m\u001b[1me\u001b[22mxp10\n",
      "\n"
     ]
    },
    {
     "data": {
      "text/latex": [
       "Euler's number\n",
       "\n"
      ],
      "text/markdown": [
       "Euler's number\n"
      ],
      "text/plain": [
       "  Euler's number"
      ]
     },
     "execution_count": 5,
     "metadata": {},
     "output_type": "execute_result"
    }
   ],
   "source": [
    "?e"
   ]
  }
 ],
 "metadata": {
  "kernelspec": {
   "display_name": "Julia 1.3.0",
   "language": "julia",
   "name": "julia-1.3"
  },
  "language_info": {
   "file_extension": ".jl",
   "mimetype": "application/julia",
   "name": "julia",
   "version": "1.3.0"
  }
 },
 "nbformat": 4,
 "nbformat_minor": 4
}
