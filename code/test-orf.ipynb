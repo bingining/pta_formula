{
 "cells": [
  {
   "cell_type": "code",
   "execution_count": 1,
   "metadata": {},
   "outputs": [],
   "source": [
    "from __future__ import division\n",
    "import numpy as np\n",
    "from numpy import pi, exp, sin, cos, log, real\n",
    "from scipy.integrate import dblquad\n",
    "from functools import lru_cache\n",
    "\n",
    "from enterprise.signals.parameter import function\n",
    "\n",
    " \n",
    "import matplotlib.pyplot as plt\n",
    "plt.rc('xtick', labelsize=15)    # fontsize of the tick labels\n",
    "plt.rc('ytick', labelsize=15)    # fontsize of the tick labels\n",
    "\n",
    "plt.rcParams.update({'font.size': 15})"
   ]
  },
  {
   "cell_type": "code",
   "execution_count": 2,
   "metadata": {},
   "outputs": [],
   "source": [
    "xi0, theta0, phi0 = pi/5, pi/3, pi/4\n",
    "L10, L20, f0 = 100, 100, 1/10 "
   ]
  },
  {
   "cell_type": "code",
   "execution_count": 3,
   "metadata": {},
   "outputs": [
    {
     "name": "stdout",
     "output_type": "stream",
     "text": [
      "CPU times: user 55 µs, sys: 6 µs, total: 61 µs\n",
      "Wall time: 64.6 µs\n"
     ]
    },
    {
     "data": {
      "text/plain": [
       "1.811449160776493e-13"
      ]
     },
     "execution_count": 3,
     "metadata": {},
     "output_type": "execute_result"
    }
   ],
   "source": [
    "# @lru_cache(maxsize=None)\n",
    "# @lru_cache(maxsize=10**7)\n",
    "def e_factor(xi, L1, L2, f, theta, phi):\n",
    "    phase1 = 2j*f*L1*pi*(1.0 + cos(theta))\n",
    "    phase2 = -2j*f*L2*pi*(1.0 + cos(theta)*cos(xi) + cos(phi)*sin(theta)*sin(xi))\n",
    "    temp1 = -1.0 + exp(phase1)\n",
    "    temp2 = -1.0 + exp(phase2)\n",
    "    return  real(temp1*temp2)\n",
    "\n",
    "%time e_factor(xi0, L10, L20, 100, theta0, phi0)"
   ]
  },
  {
   "cell_type": "markdown",
   "metadata": {},
   "source": [
    "## TT (+&×) Polarization"
   ]
  },
  {
   "cell_type": "code",
   "execution_count": 4,
   "metadata": {},
   "outputs": [
    {
     "name": "stdout",
     "output_type": "stream",
     "text": [
      "CPU times: user 39 µs, sys: 5 µs, total: 44 µs\n",
      "Wall time: 46.3 µs\n"
     ]
    },
    {
     "data": {
      "text/plain": [
       "0.0010270566287711445"
      ]
     },
     "execution_count": 4,
     "metadata": {},
     "output_type": "execute_result"
    }
   ],
   "source": [
    "# @lru_cache(maxsize=None)\n",
    "def GammaTT0(xi, theta, phi):\n",
    "    return 3.0/8.0/pi * (sin(theta/2.0)**2.0 * sin(theta) * (\n",
    "        (cos(xi)*sin(theta) - cos(theta)*cos(phi)*sin(xi))**2.0 \n",
    "        - sin(xi)**2.0 * sin(phi)**2.0)\n",
    "     )/(1.0 + cos(theta)*cos(xi) + cos(phi)*sin(theta)*sin(xi))\n",
    "\n",
    "\n",
    "%time GammaTT0(xi0, theta0, phi0)"
   ]
  },
  {
   "cell_type": "code",
   "execution_count": 5,
   "metadata": {},
   "outputs": [
    {
     "name": "stdout",
     "output_type": "stream",
     "text": [
      "CPU times: user 9.13 s, sys: 4.25 ms, total: 9.14 s\n",
      "Wall time: 9.16 s\n"
     ]
    },
    {
     "data": {
      "text/plain": [
       "-0.28671608922526753"
      ]
     },
     "execution_count": 5,
     "metadata": {},
     "output_type": "execute_result"
    }
   ],
   "source": [
    "# Correlation functions\n",
    "# @lru_cache(maxsize=None)\n",
    "# @function\n",
    "def GammaTT(xi, L1, L2, f):\n",
    "    integral = lambda theta, phi: GammaTT0(xi, theta, phi)*e_factor(xi, L1, L2, f, theta, phi)\n",
    "#     dblquad(f, 0, 2, lambda x: 0, lambda x: 1)\n",
    "    return dblquad(integral, 0.0, 2*pi, 0.0, pi, epsrel=1e-3, epsabs=1e-3)[0]\n",
    "\n",
    "# %time GammaTT(xi0, L10, L20, f0)\n",
    "%time GammaTT(pi/2.001, L10, L20, f0)"
   ]
  },
  {
   "cell_type": "code",
   "execution_count": 6,
   "metadata": {},
   "outputs": [
    {
     "name": "stderr",
     "output_type": "stream",
     "text": [
      "/home/bear/opt/miniconda3/envs/PTAPolar3/lib/python3.6/site-packages/scipy/integrate/quadpack.py:860: IntegrationWarning: The integral is probably divergent, or slowly convergent.\n",
      "  **opt)\n"
     ]
    },
    {
     "name": "stdout",
     "output_type": "stream",
     "text": [
      "CPU times: user 1min 29s, sys: 114 µs, total: 1min 29s\n",
      "Wall time: 1min 29s\n"
     ]
    },
    {
     "name": "stderr",
     "output_type": "stream",
     "text": [
      "/home/bear/opt/miniconda3/envs/PTAPolar3/lib/python3.6/site-packages/scipy/integrate/quadpack.py:860: IntegrationWarning: The maximum number of subdivisions (50) has been achieved.\n",
      "  If increasing the limit yields no improvement it is advised to analyze \n",
      "  the integrand in order to determine the difficulties.  If the position of a \n",
      "  local difficulty can be determined (singularity, discontinuity) one will \n",
      "  probably gain from splitting up the interval and calling the integrator \n",
      "  on the subranges.  Perhaps a special-purpose integrator should be used.\n",
      "  **opt)\n"
     ]
    },
    {
     "data": {
      "text/plain": [
       "0.7169306409542285"
      ]
     },
     "execution_count": 6,
     "metadata": {},
     "output_type": "execute_result"
    }
   ],
   "source": [
    "%time GammaTT(pi/10, 1, 1, 75)"
   ]
  },
  {
   "cell_type": "code",
   "execution_count": 7,
   "metadata": {},
   "outputs": [
    {
     "name": "stdout",
     "output_type": "stream",
     "text": [
      "CPU times: user 1min 40s, sys: 6.64 ms, total: 1min 40s\n",
      "Wall time: 1min 40s\n"
     ]
    },
    {
     "data": {
      "text/plain": [
       "0.7402889237882798"
      ]
     },
     "execution_count": 7,
     "metadata": {},
     "output_type": "execute_result"
    }
   ],
   "source": [
    "%time GammaTT(pi/10, 1, 2, 75)"
   ]
  },
  {
   "cell_type": "code",
   "execution_count": 8,
   "metadata": {},
   "outputs": [
    {
     "name": "stdout",
     "output_type": "stream",
     "text": [
      "CPU times: user 1min 40s, sys: 3.32 ms, total: 1min 40s\n",
      "Wall time: 1min 40s\n"
     ]
    },
    {
     "data": {
      "text/plain": [
       "0.7500967169126924"
      ]
     },
     "execution_count": 8,
     "metadata": {},
     "output_type": "execute_result"
    }
   ],
   "source": [
    "%time GammaTT(pi/10, 1, 5, 75)"
   ]
  },
  {
   "cell_type": "code",
   "execution_count": 9,
   "metadata": {},
   "outputs": [
    {
     "data": {
      "text/plain": [
       "0.021789946873722942"
      ]
     },
     "execution_count": 9,
     "metadata": {},
     "output_type": "execute_result"
    }
   ],
   "source": [
    "(0.750096-0.734100)/0.734100"
   ]
  },
  {
   "cell_type": "code",
   "execution_count": 10,
   "metadata": {},
   "outputs": [
    {
     "name": "stdout",
     "output_type": "stream",
     "text": [
      "CPU times: user 1min 40s, sys: 6.66 ms, total: 1min 40s\n",
      "Wall time: 1min 40s\n"
     ]
    },
    {
     "data": {
      "text/plain": [
       "-0.2589568960997308"
      ]
     },
     "execution_count": 10,
     "metadata": {},
     "output_type": "execute_result"
    }
   ],
   "source": [
    "%time GammaTT(pi/2.001, L10, L20, 3)"
   ]
  },
  {
   "cell_type": "code",
   "execution_count": 11,
   "metadata": {},
   "outputs": [
    {
     "data": {
      "text/plain": [
       "-0.16472077083991787"
      ]
     },
     "execution_count": 11,
     "metadata": {},
     "output_type": "execute_result"
    }
   ],
   "source": [
    "# Analytical version of GammaTT\n",
    "def GammaTTA(xi, L1, L2, f):\n",
    "    k = (1-cos(xi))/2\n",
    "    return 3*(1/3 + k*(log(k)-1/6))\n",
    "\n",
    "GammaTTA(pi/3, L10, L20, f0)"
   ]
  },
  {
   "cell_type": "code",
   "execution_count": 12,
   "metadata": {},
   "outputs": [
    {
     "data": {
      "image/png": "[encoded data removed]",
      "text/plain": [
       "<Figure size 720x360 with 1 Axes>"
      ]
     },
     "metadata": {
      "needs_background": "light"
     },
     "output_type": "display_data"
    },
    {
     "name": "stdout",
     "output_type": "stream",
     "text": [
      "CPU times: user 1h 3min 21s, sys: 215 ms, total: 1h 3min 21s\n",
      "Wall time: 1h 3min 24s\n"
     ]
    }
   ],
   "source": [
    "%%time\n",
    "fs = np.linspace(0, 20, 200)\n",
    "Gammas1 = np.array([GammaTT(pi/10, 1, 1, f) for f in fs])\n",
    "Gammas2 = np.array([GammaTT(pi/5, 1, 1, f) for f in fs])\n",
    "Gammas3 = np.array([GammaTT(3*pi/10, 1, 1, f) for f in fs])\n",
    "Gammas4 = np.array([GammaTT(pi/2.001, 1, 1, f) for f in fs])\n",
    "\n",
    "Gammas5 = np.array([GammaTTA(pi/10, 1, 1, f) for f in fs])\n",
    "Gammas6 = np.array([GammaTTA(pi/5, 1, 1, f) for f in fs])\n",
    "Gammas7 = np.array([GammaTTA(3*pi/10, 1, 1, f) for f in fs])\n",
    "Gammas8 = np.array([GammaTTA(pi/2, 1, 1, f) for f in fs])\n",
    "\n",
    "plt.figure(figsize=(10, 5))\n",
    "plt.plot(fs, Gammas1, \"red\", label=r\"$\\xi=\\pi/10$\")\n",
    "plt.plot(fs, Gammas2, \"b\", label=r\"$\\xi=\\pi/5$\")\n",
    "plt.plot(fs, Gammas3, \"g\", label=r\"$\\xi=3\\pi/10$\")\n",
    "plt.plot(fs, Gammas4, \"purple\", label=r\"$\\xi=\\pi/2$\")\n",
    "plt.plot(fs, Gammas5, \"r--\")\n",
    "plt.plot(fs, Gammas6, \"b--\")\n",
    "plt.plot(fs, Gammas7, \"g--\")\n",
    "plt.plot(fs, Gammas8, \"--\", color=\"purple\")\n",
    "\n",
    "plt.xlabel(\"fL\")\n",
    "plt.ylabel(r\"$\\Gamma_+$(fL)\")\n",
    "plt.title(\"TT polarization\")\n",
    "plt.ylim(-0.65, 1.5)\n",
    "plt.vlines(10, ymin=-1e3, ymax=1e3, linestyles='--', colors='gray')\n",
    "plt.grid(\"on\")\n",
    "# plt.legend()\n",
    "plt.show()"
   ]
  },
  {
   "cell_type": "markdown",
   "metadata": {},
   "source": [
    "## ST (b) Polarization"
   ]
  },
  {
   "cell_type": "code",
   "execution_count": 13,
   "metadata": {},
   "outputs": [
    {
     "data": {
      "text/plain": [
       "0.006087395043300234"
      ]
     },
     "execution_count": 13,
     "metadata": {},
     "output_type": "execute_result"
    }
   ],
   "source": [
    "# @lru_cache(maxsize=None)\n",
    "def GammaST0(xi, theta, phi):\n",
    "    return -3.0/8.0/pi * (sin(theta/2.0))**2.0 * sin(theta) * (\n",
    "        -1 + cos(theta)*cos(xi) + cos(phi)*sin(theta)*sin(xi)\n",
    "    )\n",
    "GammaST0(xi0, theta0, phi0)"
   ]
  },
  {
   "cell_type": "code",
   "execution_count": 14,
   "metadata": {},
   "outputs": [
    {
     "name": "stdout",
     "output_type": "stream",
     "text": [
      "CPU times: user 2.26 s, sys: 3.33 ms, total: 2.26 s\n",
      "Wall time: 2.26 s\n"
     ]
    },
    {
     "data": {
      "text/plain": [
       "0.9672440097016415"
      ]
     },
     "execution_count": 14,
     "metadata": {},
     "output_type": "execute_result"
    }
   ],
   "source": [
    "# @lru_cache(maxsize=None)\n",
    "# @function\n",
    "def GammaST(xi, L1, L2, f):\n",
    "    integral = lambda theta, phi: GammaST0(xi, theta, phi)*e_factor(xi, L1, L2, f, theta, phi)\n",
    "    return dblquad(integral, 0.0, 2*pi, 0.0, pi, epsrel=1e-3, epsabs=1e-3)[0]\n",
    "\n",
    "%time GammaST(xi0, L10, L20, f0)"
   ]
  },
  {
   "cell_type": "code",
   "execution_count": 15,
   "metadata": {},
   "outputs": [
    {
     "data": {
      "text/plain": [
       "0.9522542485937369"
      ]
     },
     "execution_count": 15,
     "metadata": {},
     "output_type": "execute_result"
    }
   ],
   "source": [
    "# Analytical version of GammaST\n",
    "def GammaSTA(xi, L1, L2, f):\n",
    "    return 1/4 * (3 + cos(xi))\n",
    "\n",
    "GammaSTA(xi0, L10, L20, f0)"
   ]
  },
  {
   "cell_type": "code",
   "execution_count": 16,
   "metadata": {},
   "outputs": [
    {
     "name": "stdout",
     "output_type": "stream",
     "text": [
      "CPU times: user 161 ms, sys: 0 ns, total: 161 ms\n",
      "Wall time: 160 ms\n"
     ]
    },
    {
     "data": {
      "text/plain": [
       "0.9558921685835213"
      ]
     },
     "execution_count": 16,
     "metadata": {},
     "output_type": "execute_result"
    }
   ],
   "source": [
    "%time GammaST(pi/6, 1, 1, 2)"
   ]
  },
  {
   "cell_type": "code",
   "execution_count": 17,
   "metadata": {},
   "outputs": [
    {
     "data": {
      "image/png": "[encoded data removed]",
      "text/plain": [
       "<Figure size 720x360 with 1 Axes>"
      ]
     },
     "metadata": {
      "needs_background": "light"
     },
     "output_type": "display_data"
    },
    {
     "name": "stdout",
     "output_type": "stream",
     "text": [
      "CPU times: user 56min 29s, sys: 123 ms, total: 56min 29s\n",
      "Wall time: 56min 32s\n"
     ]
    }
   ],
   "source": [
    "%%time\n",
    "fs = np.linspace(0, 20, 200)\n",
    "Gammas1 = np.array([GammaST(pi/5, 1, 1, f) for f in fs])\n",
    "Gammas2 = np.array([GammaST(3*pi/10, 1, 1, f) for f in fs])\n",
    "Gammas3 = np.array([GammaST(2*pi/5, 1, 1, f) for f in fs])\n",
    "Gammas4 = np.array([GammaST(pi/2.001, 1, 1, f) for f in fs])\n",
    "\n",
    "Gammas5 = np.array([GammaSTA(pi/5, 1, 1, f) for f in fs])\n",
    "Gammas6 = np.array([GammaSTA(3*pi/10, 1, 1, f) for f in fs])\n",
    "Gammas7 = np.array([GammaSTA(2*pi/5, 1, 1, f) for f in fs])\n",
    "Gammas8 = np.array([GammaSTA(pi/2, 1, 1, f) for f in fs])\n",
    "\n",
    "plt.figure(figsize=(10, 5))\n",
    "plt.plot(fs, Gammas1, \"red\", label=r\"$\\xi=\\pi/5$\")\n",
    "plt.plot(fs, Gammas2, \"blue\", label=r\"$\\xi=3\\pi/10$\")\n",
    "plt.plot(fs, Gammas3, \"green\", label=r\"$\\xi=2\\pi/5$\")\n",
    "plt.plot(fs, Gammas4, \"purple\", label=r\"$\\xi=\\pi/2$\")\n",
    "plt.plot(fs, Gammas5, \"r--\")\n",
    "plt.plot(fs, Gammas6, \"b--\")\n",
    "plt.plot(fs, Gammas7, \"g--\")\n",
    "plt.plot(fs, Gammas8, \"--\", color=\"purple\")\n",
    "plt.xlabel(\"fL\")\n",
    "plt.ylabel(r\"$\\Gamma_b$(fL)\")\n",
    "plt.title(\"ST polarization\")\n",
    "plt.ylim(0.6, 1.3)\n",
    "plt.vlines(10, ymin=-1e3, ymax=1e3, linestyles='--', colors='gray')\n",
    "plt.grid(\"on\")\n",
    "plt.legend()\n",
    "plt.show()"
   ]
  },
  {
   "cell_type": "markdown",
   "metadata": {},
   "source": [
    "## VL (x&y) Polarization"
   ]
  },
  {
   "cell_type": "code",
   "execution_count": 18,
   "metadata": {},
   "outputs": [
    {
     "data": {
      "text/plain": [
       "0.004474219125649776"
      ]
     },
     "execution_count": 18,
     "metadata": {},
     "output_type": "execute_result"
    }
   ],
   "source": [
    "# @lru_cache(maxsize=None)\n",
    "def GammaVL0(xi, theta, phi):\n",
    "    return -3.0/8.0/pi * cos(theta) * sin(theta) * (\n",
    "        sin(2.0*theta)*(-cos(xi)**2.0 + cos(phi)**2 * sin(xi)**2.0)\n",
    "        + cos(2.0*theta) * cos(phi) * sin(2.0*xi) \n",
    "     )/(1.0 + cos(theta))/(cos(xi)*cos(theta)/sin(theta) + 1/sin(theta) + cos(phi)*sin(xi))\n",
    "\n",
    "GammaVL0(1, pi/3, pi/4)"
   ]
  },
  {
   "cell_type": "code",
   "execution_count": 19,
   "metadata": {},
   "outputs": [
    {
     "name": "stdout",
     "output_type": "stream",
     "text": [
      "CPU times: user 2.73 s, sys: 0 ns, total: 2.73 s\n",
      "Wall time: 2.74 s\n"
     ]
    },
    {
     "data": {
      "text/plain": [
       "0.8052520865906442"
      ]
     },
     "execution_count": 19,
     "metadata": {},
     "output_type": "execute_result"
    }
   ],
   "source": [
    "# @lru_cache(maxsize=None)\n",
    "# @function\n",
    "def GammaVL(xi, L1, L2, f):\n",
    "    integral = lambda theta, phi: GammaVL0(xi, theta, phi)*e_factor(xi, L1, L2, f, theta, phi)\n",
    "    return dblquad(integral, 0.0, 2*pi, 0.0, pi, epsrel=1e-3, epsabs=1e-3)[0]\n",
    "\n",
    "%time GammaVL(xi0, L10, L20, f0)"
   ]
  },
  {
   "cell_type": "code",
   "execution_count": 20,
   "metadata": {},
   "outputs": [
    {
     "name": "stdout",
     "output_type": "stream",
     "text": [
      "CPU times: user 1min 47s, sys: 48.1 ms, total: 1min 47s\n",
      "Wall time: 1min 47s\n"
     ]
    },
    {
     "data": {
      "text/plain": [
       "0.8095771185334564"
      ]
     },
     "execution_count": 20,
     "metadata": {},
     "output_type": "execute_result"
    }
   ],
   "source": [
    "%time GammaVL(pi/5, 1, 1, 75)"
   ]
  },
  {
   "cell_type": "code",
   "execution_count": 21,
   "metadata": {},
   "outputs": [
    {
     "name": "stdout",
     "output_type": "stream",
     "text": [
      "CPU times: user 1min 51s, sys: 6.66 ms, total: 1min 51s\n",
      "Wall time: 1min 51s\n"
     ]
    },
    {
     "data": {
      "text/plain": [
       "0.8554918415452869"
      ]
     },
     "execution_count": 21,
     "metadata": {},
     "output_type": "execute_result"
    }
   ],
   "source": [
    "%time GammaVL(pi/5, 1, 5, 75)"
   ]
  },
  {
   "cell_type": "code",
   "execution_count": 22,
   "metadata": {},
   "outputs": [
    {
     "name": "stdout",
     "output_type": "stream",
     "text": [
      "CPU times: user 60.1 ms, sys: 9.96 ms, total: 70.1 ms\n",
      "Wall time: 69.2 ms\n"
     ]
    },
    {
     "data": {
      "text/plain": [
       "0.8100860216833332"
      ]
     },
     "execution_count": 22,
     "metadata": {},
     "output_type": "execute_result"
    }
   ],
   "source": [
    "# @lru_cache(maxsize=None)\n",
    "# @function\n",
    "def GammaVL2(xi, L1, L2, f):\n",
    "    integral = lambda theta, phi: GammaVL0(xi, theta, phi)\n",
    "    return dblquad(integral, 0.0, 2*pi, 0.0, pi, epsrel=1e-3, epsabs=1e-3)[0]\n",
    "\n",
    "%time GammaVL2(xi0, L10, L20, f0)"
   ]
  },
  {
   "cell_type": "code",
   "execution_count": 23,
   "metadata": {},
   "outputs": [
    {
     "name": "stdout",
     "output_type": "stream",
     "text": [
      "CPU times: user 66 ms, sys: 3.32 ms, total: 69.3 ms\n",
      "Wall time: 68.4 ms\n"
     ]
    },
    {
     "data": {
      "text/plain": [
       "0.8100860216833332"
      ]
     },
     "execution_count": 23,
     "metadata": {},
     "output_type": "execute_result"
    }
   ],
   "source": [
    "%time GammaVL2(pi/5, 1, 1, 75)"
   ]
  },
  {
   "cell_type": "code",
   "execution_count": 24,
   "metadata": {},
   "outputs": [
    {
     "name": "stdout",
     "output_type": "stream",
     "text": [
      "CPU times: user 71.6 ms, sys: 3.3 ms, total: 74.9 ms\n",
      "Wall time: 74.3 ms\n"
     ]
    },
    {
     "data": {
      "text/plain": [
       "0.8100860216833332"
      ]
     },
     "execution_count": 24,
     "metadata": {},
     "output_type": "execute_result"
    }
   ],
   "source": [
    "%time GammaVL2(pi/5, 1, 5, 75)"
   ]
  },
  {
   "cell_type": "code",
   "execution_count": 25,
   "metadata": {},
   "outputs": [
    {
     "data": {
      "text/plain": [
       "3.168808781402895e-08"
      ]
     },
     "execution_count": 25,
     "metadata": {},
     "output_type": "execute_result"
    }
   ],
   "source": [
    "1/(365.25*24*3600)"
   ]
  },
  {
   "cell_type": "code",
   "execution_count": 26,
   "metadata": {},
   "outputs": [
    {
     "data": {
      "image/png": "[encoded data removed]",
      "text/plain": [
       "<Figure size 720x360 with 1 Axes>"
      ]
     },
     "metadata": {
      "needs_background": "light"
     },
     "output_type": "display_data"
    },
    {
     "name": "stdout",
     "output_type": "stream",
     "text": [
      "CPU times: user 38min 59s, sys: 108 ms, total: 38min 59s\n",
      "Wall time: 39min 2s\n"
     ]
    }
   ],
   "source": [
    "%%time\n",
    "fs = np.linspace(0, 20, 200)\n",
    "Gammas1 = 4*pi/3*np.array([GammaVL(0, 1, 1, f) for f in fs])\n",
    "Gammas2 = 4*pi/3*np.array([GammaVL(pi/10, 1, 1, f) for f in fs])\n",
    "Gammas3 = 4*pi/3*np.array([GammaVL(pi/5, 1, 1, f) for f in fs])\n",
    "Gammas4 = 4*pi/3*np.array([GammaVL(3*pi/10, 1, 1, f) for f in fs])\n",
    "\n",
    "plt.figure(figsize=(10, 5))\n",
    "plt.plot(fs, Gammas1, \"r\", label=r\"$\\xi=0$\")\n",
    "plt.plot(fs, Gammas2, \"b\", label=r\"$\\xi=\\pi/10$\")\n",
    "plt.plot(fs, Gammas3, \"g\", label=r\"$\\xi=\\pi/5$\")\n",
    "plt.plot(fs, Gammas4, \"purple\", label=r\"$\\xi=3\\pi/10$\")\n",
    "plt.xlabel(\"fL\")\n",
    "plt.ylabel(r\"$\\Gamma_y$(fL)\")\n",
    "plt.title(\"VL polarization\")\n",
    "plt.ylim(-15, 130)\n",
    "plt.vlines(10, ymin=-1e3, ymax=1e3, linestyles='--', colors='gray')\n",
    "plt.grid(\"on\")\n",
    "plt.legend()\n",
    "plt.show()"
   ]
  },
  {
   "cell_type": "markdown",
   "metadata": {},
   "source": [
    "## SL (l) Polarization"
   ]
  },
  {
   "cell_type": "code",
   "execution_count": 27,
   "metadata": {},
   "outputs": [
    {
     "name": "stdout",
     "output_type": "stream",
     "text": [
      "CPU times: user 35 µs, sys: 0 ns, total: 35 µs\n",
      "Wall time: 37.9 µs\n"
     ]
    },
    {
     "data": {
      "text/plain": [
       "0.005836080605476063"
      ]
     },
     "execution_count": 27,
     "metadata": {},
     "output_type": "execute_result"
    }
   ],
   "source": [
    "# @lru_cache(maxsize=None)\n",
    "def GammaSL0(xi, theta, phi):\n",
    "    return 3.0/16.0/pi * cos(theta)**2 * sin(theta) * (\n",
    "        cos(theta)*cos(xi) + cos(phi)*sin(theta)*sin(xi)\n",
    "    )**2.0 /(1.0 + cos(theta))/(1 + cos(theta)*cos(xi) + cos(phi)*sin(theta)*sin(xi))\n",
    "\n",
    "%time GammaSL0(xi0, pi/4,  pi/9)"
   ]
  },
  {
   "cell_type": "code",
   "execution_count": 28,
   "metadata": {},
   "outputs": [
    {
     "name": "stdout",
     "output_type": "stream",
     "text": [
      "CPU times: user 1.85 s, sys: 0 ns, total: 1.85 s\n",
      "Wall time: 1.85 s\n"
     ]
    },
    {
     "data": {
      "text/plain": [
       "6.866163190861831"
      ]
     },
     "execution_count": 28,
     "metadata": {},
     "output_type": "execute_result"
    }
   ],
   "source": [
    "# @lru_cache(maxsize=None)\n",
    "# @function\n",
    "def GammaSL(xi, L1, L2, f):\n",
    "    integral = lambda theta, phi: GammaSL0(xi, theta, phi)*e_factor(xi, L1, L2, f, theta, phi)\n",
    "    return dblquad(integral, 0.0, 2*pi, 0.0, pi, epsrel=1e-3, epsabs=1e-3)[0]\n",
    "\n",
    "%time GammaSL(xi0, L10, L20, f0)"
   ]
  },
  {
   "cell_type": "code",
   "execution_count": 29,
   "metadata": {},
   "outputs": [
    {
     "data": {
      "image/png": "[encoded data removed]",
      "text/plain": [
       "<Figure size 720x360 with 1 Axes>"
      ]
     },
     "metadata": {
      "needs_background": "light"
     },
     "output_type": "display_data"
    },
    {
     "name": "stdout",
     "output_type": "stream",
     "text": [
      "CPU times: user 20min 6s, sys: 157 ms, total: 20min 6s\n",
      "Wall time: 20min 7s\n"
     ]
    }
   ],
   "source": [
    "%%time\n",
    "fs = np.linspace(0, 20, 200)\n",
    "Gammas1 = 4*pi/3*np.array([GammaSL(0, 1, 1, f) for f in fs])\n",
    "Gammas2 = 4*pi/3*np.array([GammaSL(pi/10, 1, 1, f) for f in fs])\n",
    "Gammas3 = 4*pi/3*np.array([GammaSL(pi/5, 1, 1, f) for f in fs])\n",
    "Gammas4 = 4*pi/3*np.array([GammaSL(3*pi/10, 1, 1, f) for f in fs])\n",
    "\n",
    "plt.figure(figsize=(10, 5))\n",
    "plt.plot(fs, Gammas1, \"red\", label=r\"$\\xi=0$\")\n",
    "plt.plot(fs, Gammas2, \"b\", label=r\"$\\pi/10$\")\n",
    "plt.plot(fs, Gammas3, \"g\", label=r\"$\\pi/5$\")\n",
    "plt.plot(fs, Gammas4, \"purple\", label=r\"$3\\pi/10$\")\n",
    "plt.xlabel(\"fL\")\n",
    "plt.ylabel(r\"$\\Gamma_l$(fL)\")\n",
    "plt.title(\"SL polarization\")\n",
    "plt.vlines(10, ymin=-1e3, ymax=1e3, linestyles='--', colors='gray')\n",
    "plt.ylim(-50, 550)\n",
    "plt.grid(\"on\")\n",
    "plt.legend()\n",
    "plt.show()"
   ]
  },
  {
   "cell_type": "code",
   "execution_count": null,
   "metadata": {},
   "outputs": [],
   "source": []
  }
 ],
 "metadata": {
  "kernelspec": {
   "display_name": "PTAPolar3",
   "language": "python",
   "name": "ptapolar3"
  },
  "language_info": {
   "codemirror_mode": {
    "name": "ipython",
    "version": 3
   },
   "file_extension": ".py",
   "mimetype": "text/x-python",
   "name": "python",
   "nbconvert_exporter": "python",
   "pygments_lexer": "ipython3",
   "version": "3.6.9"
  }
 },
 "nbformat": 4,
 "nbformat_minor": 4
}
